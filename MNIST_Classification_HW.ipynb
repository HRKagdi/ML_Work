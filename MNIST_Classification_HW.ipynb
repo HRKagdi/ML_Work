{
 "cells": [
  {
   "cell_type": "code",
   "execution_count": 2,
   "metadata": {},
   "outputs": [],
   "source": [
    "import torch\n",
    "from torchvision import datasets, transforms\n",
    "\n",
    "transform = transforms.Compose([transforms.ToTensor(), transforms.Normalize((0.5,), (0.5,))])\n",
    "\n",
    "trainset = datasets.MNIST('mnist_data/', download=True, train=True, transform=transform, target_transform=None)\n",
    "testset = datasets.MNIST('mnist_data/', download=True, train=False, transform=transform, target_transform=None)\n",
    "\n",
    "\n",
    "trainloader = torch.utils.data.DataLoader(trainset, batch_size=64, shuffle=True)\n",
    "testloader = torch.utils.data.DataLoader(testset, batch_size = 64, shuffle=False)\n"
   ]
  },
  {
   "cell_type": "code",
   "execution_count": 17,
   "metadata": {},
   "outputs": [
    {
     "name": "stdout",
     "output_type": "stream",
     "text": [
      "Epoch 1, Loss: 1.7508096286991257\n",
      "Epoch 2, Loss: 1.6594927723982187\n",
      "Epoch 3, Loss: 1.6658229249626844\n",
      "Epoch 4, Loss: 1.6589051201653633\n",
      "Epoch 5, Loss: 1.663610090070696\n",
      "Epoch 6, Loss: 1.6616260241597955\n",
      "Epoch 7, Loss: 1.6650193611950255\n",
      "Epoch 8, Loss: 1.6589194907308387\n",
      "Epoch 9, Loss: 1.6611088570247072\n",
      "Epoch 10, Loss: 1.6579960294878051\n",
      "Epoch 11, Loss: 1.6637815784797994\n",
      "Epoch 12, Loss: 1.657273750315343\n",
      "Epoch 13, Loss: 1.661971983624928\n",
      "Epoch 14, Loss: 1.6578729831333607\n",
      "Epoch 15, Loss: 1.6587596512806695\n",
      "Epoch 16, Loss: 1.6616928255888446\n",
      "Epoch 17, Loss: 1.6652932549590496\n",
      "Epoch 18, Loss: 1.6520054069663417\n",
      "Epoch 19, Loss: 1.6561961107925056\n",
      "Epoch 20, Loss: 1.6584258953899718\n",
      "Training Finished\n",
      "Test Accuracy: 80.68%\n"
     ]
    }
   ],
   "source": [
    "import torch\n",
    "import torch.nn as nn\n",
    "import torch.optim as optim\n",
    "import torch.nn.functional as F\n",
    "import numpy as np\n",
    "\n",
    "class Model(nn.Module):\n",
    "    def __init__(self,imgWidth,imgHeight,numClasses):\n",
    "        super(Model, self).__init__()\n",
    "        self.fc1 = nn.Linear(imgWidth*imgWidth, 10)  \n",
    "        self.fc2 = nn.Linear(10,numClasses)\n",
    "        self.softmax = nn.Softmax()\n",
    "\n",
    "    def forward(self, img):\n",
    "        img = img.view(img.size(0), -1)  \n",
    "        outputOfLayer1 = self.fc1(img)\n",
    "        finalOutput = self.softmax(self.fc2(outputOfLayer1))\n",
    "        return finalOutput\n",
    "    \n",
    "def calculate_accuracy(model, dataloader):\n",
    "    correct = 0\n",
    "    total = 0\n",
    "    with torch.no_grad():\n",
    "        for data in dataloader:\n",
    "            inputs, labels = data\n",
    "            outputs = model(inputs)\n",
    "            _, predicted = torch.max(outputs.data, 1)\n",
    "            total += labels.size(0)\n",
    "            correct += (predicted == labels).sum().item()\n",
    "    return correct / total\n",
    "\n",
    "\n",
    "if __name__ == \"__main__\":\n",
    "    imgWidth = 28\n",
    "    imgHeight = 28\n",
    "    numClasses = 10\n",
    "\n",
    "    model = Model(imgWidth, imgHeight, numClasses).to(device='cpu')\n",
    "\n",
    "    criterion = nn.CrossEntropyLoss()\n",
    "    optimizer = optim.RMSprop(model.parameters(), lr = 0.01)\n",
    "\n",
    "    numEpochs = 10\n",
    "    for epoch in range(numEpochs):\n",
    "        running_loss = 0.0\n",
    "        for dataSample in trainloader:\n",
    "            image, label = dataSample\n",
    "            optimizer.zero_grad()  \n",
    "            output = model(image)\n",
    "            loss = criterion(output, label)\n",
    "            loss.backward()\n",
    "            optimizer.step()\n",
    "            running_loss += loss.item()\n",
    "\n",
    "        print(f\"Epoch {epoch+1}, Loss: {running_loss / len(trainloader)}\")\n",
    "\n",
    "    print('Training Finished')\n",
    "\n",
    "    test_accuracy = calculate_accuracy(model, testloader)\n",
    "\n",
    "    print(f\"Test Accuracy: {100 * test_accuracy:.2f}%\")\n",
    "\n"
   ]
  },
  {
   "cell_type": "markdown",
   "metadata": {},
   "source": []
  },
  {
   "cell_type": "code",
   "execution_count": null,
   "metadata": {},
   "outputs": [],
   "source": []
  }
 ],
 "metadata": {
  "kernelspec": {
   "display_name": "Python 3",
   "language": "python",
   "name": "python3"
  },
  "language_info": {
   "codemirror_mode": {
    "name": "ipython",
    "version": 3
   },
   "file_extension": ".py",
   "mimetype": "text/x-python",
   "name": "python",
   "nbconvert_exporter": "python",
   "pygments_lexer": "ipython3",
   "version": "3.8.10"
  }
 },
 "nbformat": 4,
 "nbformat_minor": 2
}
